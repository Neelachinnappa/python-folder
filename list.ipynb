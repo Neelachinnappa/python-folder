{
 "cells": [
  {
   "cell_type": "code",
   "execution_count": 10,
   "metadata": {},
   "outputs": [
    {
     "name": "stdout",
     "output_type": "stream",
     "text": [
      "[1, 2, 3, 'python']\n",
      "[1, 2, 3, 'example', 'python', 4, 2, 0, (2, 0)]\n"
     ]
    }
   ],
   "source": [
    "list1 =[1, 2, 3, \"python\"]\n",
    "print(list1)\n",
    "# append() extend() insert()\n",
    "list1.append(4)\n",
    "list1.extend((2,0))\n",
    "list1.append((2,0))\n",
    "list1.insert(3, \"example\")\n",
    "print(list1)"
   ]
  },
  {
   "cell_type": "code",
   "execution_count": 5,
   "metadata": {},
   "outputs": [
    {
     "data": {
      "text/plain": [
       "5"
      ]
     },
     "execution_count": 5,
     "metadata": {},
     "output_type": "execute_result"
    }
   ],
   "source": [
    "x = [1, 2, 3, 4, 5, 8]\n",
    "x\n",
    "\n",
    "len(x)\n",
    "x[0]\n",
    "x[4]"
   ]
  },
  {
   "cell_type": "code",
   "execution_count": 18,
   "metadata": {},
   "outputs": [
    {
     "name": "stdout",
     "output_type": "stream",
     "text": [
      "[1, 2, 3, 'example', 4, 2, 0, (2, 0)]\n",
      "0\n",
      "[1, 2, 3, 'example', 4, 2]\n"
     ]
    }
   ],
   "source": [
    "#del pop() remove()\n",
    "list1= [1, 2, 3, \"example\", \"python\", 4, 2, 0, (2, 0)]\n",
    "del list1[4]\n",
    "print(list1)\n",
    "a= list1.pop(6)\n",
    "print(a)\n",
    "list1.remove((2,0))\n",
    "print(list1)\n",
    "\n"
   ]
  },
  {
   "cell_type": "code",
   "execution_count": 8,
   "metadata": {},
   "outputs": [
    {
     "name": "stdout",
     "output_type": "stream",
     "text": [
      "[1, 'edureka']\n",
      "[0, 'edureka', 3, 2, 1]\n"
     ]
    }
   ],
   "source": [
    "list1 = [1, 2, 3, \"edureka\", 0]\n",
    "#print(list1)\n",
    "#print(list1[0:2])\n",
    "print(list1[0:4:3])\n",
    "print(list1[::-1])"
   ]
  },
  {
   "cell_type": "code",
   "execution_count": 33,
   "metadata": {},
   "outputs": [
    {
     "name": "stdout",
     "output_type": "stream",
     "text": [
      "[1, 2, 6, 12, 45, 546, 897]\n",
      "[897, 546, 45, 12, 6, 2, 1]\n",
      "1\n",
      "1\n"
     ]
    }
   ],
   "source": [
    "list1 =[1, 2,6,546, 897, 12, 45]\n",
    "print(sorted(list1))\n",
    "list1.sort( reverse=True )\n",
    "print(list1)\n",
    "print(list1.index(546))\n",
    "print(list1.count(12))"
   ]
  }
 ],
 "metadata": {
  "kernelspec": {
   "display_name": "Python 3.10.4 64-bit",
   "language": "python",
   "name": "python3"
  },
  "language_info": {
   "codemirror_mode": {
    "name": "ipython",
    "version": 3
   },
   "file_extension": ".py",
   "mimetype": "text/x-python",
   "name": "python",
   "nbconvert_exporter": "python",
   "pygments_lexer": "ipython3",
   "version": "3.10.4"
  },
  "orig_nbformat": 4,
  "vscode": {
   "interpreter": {
    "hash": "a42ccb73e7d9bfdf27e036f1d2b8b681e55fc0743cc5586bc2474d4a60f4b886"
   }
  }
 },
 "nbformat": 4,
 "nbformat_minor": 2
}
