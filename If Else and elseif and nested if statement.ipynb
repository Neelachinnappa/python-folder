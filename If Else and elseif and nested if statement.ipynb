{
 "cells": [
  {
   "cell_type": "code",
   "execution_count": 2,
   "metadata": {},
   "outputs": [
    {
     "name": "stdout",
     "output_type": "stream",
     "text": [
      "Entered name is invalid\n"
     ]
    }
   ],
   "source": [
    "name = input(\"Enter the name: \")\n",
    "\n",
    "if name == \"Santhosh\":\n",
    "    print(\"Name Entered is = \", name)\n",
    "\n",
    "elif name == \"Varshini\":\n",
    "    print(\"Name Entered is= \", name)\n",
    "elif name == \"Sahara\":\n",
    "    print(\"Name Entered is= \", name)\n",
    "elif name == \"Dharani\":\n",
    "    print(\"Name Entered is= \", name)\n",
    "elif name == \"Kumara\":\n",
    "    print(\"Name Entered is= \", name)\n",
    "else:\n",
    "    print(\"Entered name is invalid\")\n",
    "    \n"
   ]
  },
  {
   "cell_type": "code",
   "execution_count": 7,
   "metadata": {},
   "outputs": [
    {
     "name": "stdout",
     "output_type": "stream",
     "text": [
      "x is negative\n"
     ]
    }
   ],
   "source": [
    "x = -10\n",
    "if x < 0:\n",
    "    print(\"x is negative\")\n",
    "else:\n",
    "    print(\"x is positive\")\n",
    "    if (x % 2) ==0:\n",
    "         print (\"x is even\")\n",
    "    else:\n",
    "        print(\"x is odd\")\n",
    "        "
   ]
  },
  {
   "cell_type": "code",
   "execution_count": 6,
   "metadata": {},
   "outputs": [
    {
     "name": "stdout",
     "output_type": "stream",
     "text": [
      "x is positive\n",
      "x is odd\n"
     ]
    }
   ],
   "source": [
    "x = 65\n",
    "if x >= 0:\n",
    "    print(\"x is positive\")\n",
    "    if (x % 2) ==0:\n",
    "         print (\"x is even\")\n",
    "    else:\n",
    "        print(\"x is odd\")\n",
    "        \n",
    "\n",
    "else:\n",
    "    print(\"x is negative\")\n",
    "    "
   ]
  }
 ],
 "metadata": {
  "kernelspec": {
   "display_name": "Python 3.10.4 64-bit",
   "language": "python",
   "name": "python3"
  },
  "language_info": {
   "codemirror_mode": {
    "name": "ipython",
    "version": 3
   },
   "file_extension": ".py",
   "mimetype": "text/x-python",
   "name": "python",
   "nbconvert_exporter": "python",
   "pygments_lexer": "ipython3",
   "version": "3.10.4"
  },
  "orig_nbformat": 4,
  "vscode": {
   "interpreter": {
    "hash": "a42ccb73e7d9bfdf27e036f1d2b8b681e55fc0743cc5586bc2474d4a60f4b886"
   }
  }
 },
 "nbformat": 4,
 "nbformat_minor": 2
}
