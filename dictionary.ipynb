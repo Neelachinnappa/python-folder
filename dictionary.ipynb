{
 "cells": [
  {
   "cell_type": "code",
   "execution_count": 5,
   "metadata": {},
   "outputs": [
    {
     "name": "stdout",
     "output_type": "stream",
     "text": [
      "{1: 'Neela', 2: 'Bavatarani'}\n",
      "{1: 'Neela', 2: 'Python'}\n",
      "{1: 'Neela', 2: 'Python', 3: 'Ruby'}\n",
      "{1: 'Neela', 2: 'Python'}\n",
      "Python\n"
     ]
    }
   ],
   "source": [
    "dic1 = {1: 'Neela' , 2: 'Bavatarani' }\n",
    "print(dic1)\n",
    "\n",
    "dic1[2] = 'Python'\n",
    "print(dic1)\n",
    "\n",
    "\n",
    "dic1[3]= 'Ruby'\n",
    "print(dic1)\n",
    "\n",
    "del dic1[3]\n",
    "print(dic1)\n",
    "\n",
    "print(dic1.pop(2))\n",
    "\n",
    "\n",
    "\n",
    "\n",
    "\n"
   ]
  },
  {
   "cell_type": "code",
   "execution_count": 8,
   "metadata": {},
   "outputs": [
    {
     "name": "stdout",
     "output_type": "stream",
     "text": [
      "dict_keys([1, 2])\n",
      "dict_values(['Neela', 'Bavatarani'])\n"
     ]
    }
   ],
   "source": [
    "dic1 = {1: 'Neela' , 2: 'Bavatarani' }\n",
    "print(dic1.keys())\n",
    "print(dic1.values())\n",
    "print(dic1.items())"
   ]
  }
 ],
 "metadata": {
  "kernelspec": {
   "display_name": "Python 3.10.4 64-bit",
   "language": "python",
   "name": "python3"
  },
  "language_info": {
   "codemirror_mode": {
    "name": "ipython",
    "version": 3
   },
   "file_extension": ".py",
   "mimetype": "text/x-python",
   "name": "python",
   "nbconvert_exporter": "python",
   "pygments_lexer": "ipython3",
   "version": "3.10.4"
  },
  "orig_nbformat": 4,
  "vscode": {
   "interpreter": {
    "hash": "a42ccb73e7d9bfdf27e036f1d2b8b681e55fc0743cc5586bc2474d4a60f4b886"
   }
  }
 },
 "nbformat": 4,
 "nbformat_minor": 2
}
