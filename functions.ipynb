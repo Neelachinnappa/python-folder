{
 "cells": [
  {
   "cell_type": "code",
   "execution_count": 1,
   "metadata": {},
   "outputs": [
    {
     "name": "stdout",
     "output_type": "stream",
     "text": [
      "Hello world\n",
      "Hello world\n"
     ]
    }
   ],
   "source": [
    "x = \"Hello world\"\n",
    "y ='Hello world'\n",
    "print(x)\n",
    "print(y)"
   ]
  },
  {
   "cell_type": "code",
   "execution_count": 3,
   "metadata": {},
   "outputs": [
    {
     "name": "stdout",
     "output_type": "stream",
     "text": [
      "Hello\"s world\n",
      "Hello's world\n"
     ]
    }
   ],
   "source": [
    "x = \"Hello\\\"s world\"\n",
    "y ='Hello\\'s world'\n",
    "print(x)\n",
    "print(y)"
   ]
  },
  {
   "cell_type": "code",
   "execution_count": 4,
   "metadata": {},
   "outputs": [
    {
     "name": "stdout",
     "output_type": "stream",
     "text": [
      "Hello\n",
      "Hello\n"
     ]
    }
   ],
   "source": [
    "x = \"Hello\"\n",
    "y ='hello'\n",
    "print(x.capitalize())\n",
    "print(y.capitalize())"
   ]
  },
  {
   "cell_type": "code",
   "execution_count": 5,
   "metadata": {},
   "outputs": [
    {
     "name": "stdout",
     "output_type": "stream",
     "text": [
      "HELLO\n",
      "hello\n"
     ]
    }
   ],
   "source": [
    "x = \"Hello\"\n",
    "y ='HELLO'\n",
    "print(x.upper())\n",
    "print(y.lower())"
   ]
  },
  {
   "cell_type": "code",
   "execution_count": 16,
   "metadata": {},
   "outputs": [
    {
     "name": "stdout",
     "output_type": "stream",
     "text": [
      "H\n",
      "l\n",
      "Hell\n",
      "hel\n",
      "False\n",
      "True\n",
      "Jello  world  \n",
      "['hello ', ' world']\n",
      "Hello  world  Hello  world  Hello  world  Hello  world  Hello  world  Hello  world  Hello  world  Hello  world  Hello  world  Hello  world  \n"
     ]
    }
   ],
   "source": [
    "x = \"Hello  world  \"\n",
    "y ='hello , world'\n",
    "print(x[0])\n",
    "print(y[2])\n",
    "print(x[0:4])\n",
    "print(y[0:3])\n",
    "print(x.isupper())\n",
    "print(y.islower())\n",
    "print(x.replace(\"H\", \"J\"))\n",
    "print(y.split(','))\n",
    "print(x * 10)"
   ]
  }
 ],
 "metadata": {
  "kernelspec": {
   "display_name": "Python 3.10.4 64-bit",
   "language": "python",
   "name": "python3"
  },
  "language_info": {
   "codemirror_mode": {
    "name": "ipython",
    "version": 3
   },
   "file_extension": ".py",
   "mimetype": "text/x-python",
   "name": "python",
   "nbconvert_exporter": "python",
   "pygments_lexer": "ipython3",
   "version": "3.10.4"
  },
  "orig_nbformat": 4,
  "vscode": {
   "interpreter": {
    "hash": "a42ccb73e7d9bfdf27e036f1d2b8b681e55fc0743cc5586bc2474d4a60f4b886"
   }
  }
 },
 "nbformat": 4,
 "nbformat_minor": 2
}
