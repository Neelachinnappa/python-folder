{
 "cells": [
  {
   "cell_type": "code",
   "execution_count": 5,
   "metadata": {},
   "outputs": [
    {
     "name": "stdout",
     "output_type": "stream",
     "text": [
      "{1, 2, 3, 4, 5}\n",
      "{0, 1, 2, 3, 4, 5, 6, 7, 8}\n",
      "{5}\n",
      "{1, 2, 3, 4}\n",
      "{0, 1, 2, 3, 4, 6, 7, 8}\n"
     ]
    }
   ],
   "source": [
    "set1 = {1, 2, 3, 4, 5, 5}\n",
    "print(set1)\n",
    "\n",
    "#union(), intersection(), difference(), symmetric_difference()\n",
    "\n",
    "set2= {6, 7, 8, 0, 5}\n",
    "print(set1.union(set2))\n",
    "\n",
    "print(set1.intersection(set2))\n",
    "\n",
    "print(set1.difference(set2))\n",
    "\n",
    "print(set1.symmetric_difference(set2))"
   ]
  }
 ],
 "metadata": {
  "kernelspec": {
   "display_name": "Python 3.10.4 64-bit",
   "language": "python",
   "name": "python3"
  },
  "language_info": {
   "codemirror_mode": {
    "name": "ipython",
    "version": 3
   },
   "file_extension": ".py",
   "mimetype": "text/x-python",
   "name": "python",
   "nbconvert_exporter": "python",
   "pygments_lexer": "ipython3",
   "version": "3.10.4"
  },
  "orig_nbformat": 4,
  "vscode": {
   "interpreter": {
    "hash": "a42ccb73e7d9bfdf27e036f1d2b8b681e55fc0743cc5586bc2474d4a60f4b886"
   }
  }
 },
 "nbformat": 4,
 "nbformat_minor": 2
}
